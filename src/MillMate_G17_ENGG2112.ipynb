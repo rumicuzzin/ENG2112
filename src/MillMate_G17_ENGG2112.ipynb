{
 "cells": [
  {
   "cell_type": "code",
   "execution_count": 2,
   "id": "2bba3f2f",
   "metadata": {},
   "outputs": [],
   "source": [
    "# from google.colab import files\n",
    "# uploaded = files.upload()"
   ]
  },
  {
   "cell_type": "code",
   "execution_count": 3,
   "id": "9927290d",
   "metadata": {},
   "outputs": [
    {
     "name": "stdout",
     "output_type": "stream",
     "text": [
      "Initial shape: (10000, 14)\n",
      "\n",
      "NaN check:\n",
      " UDI                        0\n",
      "Product ID                 0\n",
      "Type                       0\n",
      "Air temperature [K]        0\n",
      "Process temperature [K]    0\n",
      "Rotational speed [rpm]     0\n",
      "Torque [Nm]                0\n",
      "Tool wear [min]            0\n",
      "Machine failure            0\n",
      "TWF                        0\n",
      "HDF                        0\n",
      "PWF                        0\n",
      "OSF                        0\n",
      "RNF                        0\n",
      "dtype: int64\n",
      "\n",
      "Shape after removing NaN rows: (10000, 14)\n",
      "\n",
      "Z-score scaled sample:\n",
      "   UDI Product ID  Type  Air temperature [K]  Process temperature [K]  \\\n",
      "0    1     M14860     1            -0.952389                -0.947360   \n",
      "1    2     L47181     0            -0.902393                -0.879959   \n",
      "2    3     L47182     0            -0.952389                -1.014761   \n",
      "3    4     L47183     0            -0.902393                -0.947360   \n",
      "4    5     L47184     0            -0.902393                -0.879959   \n",
      "\n",
      "   Rotational speed [rpm]  Torque [Nm]  Tool wear [min]  Machine failure  TWF  \\\n",
      "0                0.068185     0.282200        -1.695984                0    0   \n",
      "1               -0.729472     0.633308        -1.648852                0    0   \n",
      "2               -0.227450     0.944290        -1.617430                0    0   \n",
      "3               -0.590021    -0.048845        -1.586009                0    0   \n",
      "4               -0.729472     0.001313        -1.554588                0    0   \n",
      "\n",
      "   HDF  PWF  OSF  RNF  \n",
      "0    0    0    0    0  \n",
      "1    0    0    0    0  \n",
      "2    0    0    0    0  \n",
      "3    0    0    0    0  \n",
      "4    0    0    0    0  \n"
     ]
    }
   ],
   "source": [
    "#Data Prepping\n",
    "\n",
    "import pandas as pd\n",
    "from sklearn.preprocessing import StandardScaler\n",
    "\n",
    "df = pd.read_csv(\"../data/ai4i2020.csv\")\n",
    "df.head()\n",
    "\n",
    "# How many rows & colums + NaN check\n",
    "print(\"Initial shape:\", df.shape)\n",
    "print(\"\\nNaN check:\\n\", df.isna().sum())\n",
    "\n",
    "# Drop any NaN rows if exist\n",
    "df.dropna(inplace=True)\n",
    "print(\"\\nShape after removing NaN rows:\", df.shape)\n",
    "\n",
    "# Encode product quality labels (L, M, H) numerically as 0, 1 & 2\n",
    "if 'Type' in df.columns:\n",
    "    df['Type'] = df['Type'].map({'L': 0, 'M': 1, 'H': 2})\n",
    "\n",
    "# Select continuous numerical columns\n",
    "continuous_cols = ['Air temperature [K]', 'Process temperature [K]',\n",
    "                   'Rotational speed [rpm]', 'Torque [Nm]', 'Tool wear [min]']\n",
    "\n",
    "# Apply Z-score scaling\n",
    "scaler_z = StandardScaler()\n",
    "df_z_scaled = df.copy()\n",
    "df_z_scaled[continuous_cols] = scaler_z.fit_transform(df[continuous_cols])\n",
    "\n",
    "# Final output\n",
    "print(\"\\nZ-score scaled sample:\")\n",
    "print(df_z_scaled.head())\n"
   ]
  }
 ],
 "metadata": {
  "kernelspec": {
   "display_name": "base",
   "language": "python",
   "name": "python3"
  },
  "language_info": {
   "codemirror_mode": {
    "name": "ipython",
    "version": 3
   },
   "file_extension": ".py",
   "mimetype": "text/x-python",
   "name": "python",
   "nbconvert_exporter": "python",
   "pygments_lexer": "ipython3",
   "version": "3.11.8"
  }
 },
 "nbformat": 4,
 "nbformat_minor": 5
}
